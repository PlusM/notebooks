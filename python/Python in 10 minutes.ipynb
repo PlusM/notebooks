{
 "cells": [
  {
   "attachments": {
    "runButton.png": {
     "image/png": "[encoded data removed]"
    }
   },
   "cell_type": "markdown",
   "metadata": {},
   "source": [
    "# Python in 10 minutes\n",
    "\n",
    "Python is a popular language because the barriers to learning it are relatively low. You can do quite a lot in just a few lines of code, provided you know what to type.\n",
    "\n",
    "In the spirit of doing being better than reading, this notebook is designed to run you through some basics in about 10 minutes to produce a chart\n",
    "\n",
    "**Important:** Before starting, please make sure all the cells are cleared by typing `Shift+C`\n",
    "\n",
    "***\n",
    "\n",
    "## Basic calculations\n",
    "\n",
    "Let's start by using Python for some basic functions, such as calculation.\n",
    "\n",
    "In the grey box below, type in any simple arithmetic calculation (e.g. `4+733` , or `898*432` ). Use the same characters for calculations as you would in Excel: + - * /\n",
    "\n",
    "After you've typed it in and while the cursor is still blinking, run the program by pressing `Shift+Enter` , or click on the run button to the left of the `In [ ]:` text when you hover it with the mouse cursor:![runButton.png](attachment:runButton.png)"
   ]
  },
  {
   "cell_type": "code",
   "execution_count": null,
   "metadata": {},
   "outputs": [],
   "source": [
    "898*432"
   ]
  },
  {
   "cell_type": "markdown",
   "metadata": {},
   "source": [
    "Did you get the result you were expecting?\n",
    "\n",
    "At its heart, Python is a calculator, so it does things like that very well. Feel free to have another go and include things such as parentheses, decimal numbers or even powers _(you'll need to use a double asterisk for that - 3**2 is equivalent to $3^2$)_\n",
    "\n",
    "***\n",
    "\n",
    "## Text strings\n",
    "\n",
    "Python can also handle text. In the box below, try typing out `print(\"Hi there!\")` and run the program in the same way you did before. If you like, you can swap the bit between the inverted commas for any text you like - just make sure it's between the \"commas\"!\n"
   ]
  },
  {
   "cell_type": "code",
   "execution_count": null,
   "metadata": {},
   "outputs": [],
   "source": [
    "print(\"Hi there!\")"
   ]
  },
  {
   "cell_type": "markdown",
   "metadata": {},
   "source": [
    "Now if that went well, you should have seen Python return the text by itself.\n",
    "\n",
    "***\n",
    "\n",
    "## Variables\n",
    "\n",
    "This is all well and good, but we're not tapping into the real power of Python yet.  \n",
    "\n",
    "An important step towards that is by using variables. Variables are like the memory button on old school calculators, which would store a number and bring it back when you pressed the button. With Python we get to store as many things as we like - the key is to give each one a unique name.\n",
    "\n",
    "Let's try it.\n",
    "\n",
    "If you're in a restaurant and you want to calculate the tip, you'll need two things: the price of the meal and the percentage value of the tip. Let's set both of those by typing in the following:\n",
    "\n",
    "`meal = 77.76`<br/>\n",
    "`tip = 12.5/100`\n",
    "\n",
    "Don't forget to use `Shift+Enter` or click the button to run!"
   ]
  },
  {
   "cell_type": "code",
   "execution_count": null,
   "metadata": {},
   "outputs": [],
   "source": [
    "meal = 77.76\n",
    "tip = 12.5/100"
   ]
  },
  {
   "cell_type": "markdown",
   "metadata": {},
   "source": [
    "Don't worry if nothing happened there - that's normal! Python hasn't been given a command to output anything, but it has stored the values.\n",
    "\n",
    "Let's check to make sure. In the box below, type `print(meal)` and/or `print(tip)`"
   ]
  },
  {
   "cell_type": "code",
   "execution_count": null,
   "metadata": {},
   "outputs": [],
   "source": [
    "print(meal)\n",
    "print(tip)"
   ]
  },
  {
   "cell_type": "markdown",
   "metadata": {},
   "source": [
    "Did you see the numbers you were expecting? Now we can work out how much the tip is going to be by typing `meal*tip` and running it"
   ]
  },
  {
   "cell_type": "code",
   "execution_count": null,
   "metadata": {},
   "outputs": [],
   "source": [
    "meal*tip"
   ]
  },
  {
   "cell_type": "markdown",
   "metadata": {},
   "source": [
    "Hopefully that came out as £9.72 (or something else if you decided to use different numbers above. Can you go back and work out the total bill, including the tip based on what you know now?\n",
    "\n",
    "If you like, you can go back and alter the values of the meal and the tip, just make sure you run each box in turn - run the box setting the variable before you run the last box!\n",
    "\n",
    "***\n",
    "\n",
    "## Functions\n",
    "\n",
    "We really start seeing the power of Python when we start using functions. You've probably already used functions in other programs like Excel - things like sum(), or countif(). These exist in Python too - for example, you've already used the print() function.\n",
    "\n",
    "You can write these yourself if you want, and it's often useful to do so. Alternatively, you could use one of the myriad of functions which other developers have written and bundled together in what Python refers to as libraries.\n",
    "\n",
    "Here is where the real power of Python starts to reveal itself. Where Excel has a limited number of functions which might increase with each release every 2-3 years, Python has over 130,000 libraries with numerous functions in each, and it's increasing daily!\n",
    "\n",
    "These functions cover a huge range of possibilties, from scraping web pages, artificial intelligence, automating software, producing PDFs, and visualising data. We're going to do something quickly now with the latter.\n",
    "\n",
    "To access a library, you first need to import it. This simply means you're downloading it to be used in your commands.\n",
    "\n",
    "We're going to import two libraries, one called pandas and the other called matplotlib. Pandas is going to do the data manipulation, and matplotlib is going to make the chart for us."
   ]
  },
  {
   "cell_type": "code",
   "execution_count": null,
   "metadata": {},
   "outputs": [],
   "source": []
  }
 ],
 "metadata": {
  "kernelspec": {
   "display_name": "Python 3",
   "language": "python",
   "name": "python3"
  },
  "language_info": {
   "codemirror_mode": {
    "name": "ipython",
    "version": 3
   },
   "file_extension": ".py",
   "mimetype": "text/x-python",
   "name": "python",
   "nbconvert_exporter": "python",
   "pygments_lexer": "ipython3",
   "version": "3.7.0"
  }
 },
 "nbformat": 4,
 "nbformat_minor": 2
}
