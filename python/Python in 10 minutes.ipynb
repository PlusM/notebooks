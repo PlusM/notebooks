{
 "cells": [
  {
   "attachments": {
    "image.png": {
     "image/png": "[encoded data removed]"
    }
   },
   "cell_type": "markdown",
   "metadata": {},
   "source": [
    "# Python in 10 minutes\n",
    "\n",
    "We often get questions about how easy it is to learn Python, so in the spirit that it's better to do than to hear,\n",
    "this notebook is designed to run you through the basics in about 10 minutes\n",
    "\n",
    "***\n",
    "\n",
    "Python is a popular language because the barriers to learning it are relatively low.  You can do quite a lot in just a few lines of code.\n",
    "\n",
    "Let's start by using Python for some basic functions, such as calculation.\n",
    "\n",
    "In the box below, type in any simple arithmetic calculation (e.g. `4+733`, or `898*432`).  Use the same characters as you would in Excel.  There's already a sum in there; you can either use that or type your own.\n",
    "\n",
    "After you've typed it in, run the program by pressing `Shift+Enter`, or click on this button at the top: ![image.png](attachment:image.png)"
   ]
  },
  {
   "cell_type": "code",
   "execution_count": null,
   "metadata": {},
   "outputs": [],
   "source": [
    "898*432"
   ]
  },
  {
   "cell_type": "markdown",
   "metadata": {},
   "source": [
    "Did you get the expected result?  At its heart, Python is a calculator, so it does things like that very well.\n",
    "\n",
    "It can also output text.  In the box below, try typing out `print(\"Hi there!\")` and run the program in the same way you did before.  If you like, you can swap the bit between the inverted commas for any text you like - just make sure it's between the commas still!"
   ]
  },
  {
   "cell_type": "code",
   "execution_count": null,
   "metadata": {},
   "outputs": [],
   "source": [
    "print(\"Hi there!\")"
   ]
  },
  {
   "cell_type": "markdown",
   "metadata": {},
   "source": [
    "Now if that went well, you should have seen Python return the text by itself.\n",
    "\n",
    "***\n",
    "\n",
    "This is all well and good, but we're not tapping into the real power of Python yet.  \n",
    "\n",
    "The first step towards that is by using variables.  This is like the memory on old-school calculators, which would store a number and bring it back when you pressed the button, only with Python we get to store as many things as we like - the key is to give each one a unique name.\n",
    "\n",
    "Let's try "
   ]
  },
  {
   "cell_type": "code",
   "execution_count": null,
   "metadata": {},
   "outputs": [],
   "source": []
  }
 ],
 "metadata": {
  "kernelspec": {
   "display_name": "Python 3",
   "language": "python",
   "name": "python3"
  },
  "language_info": {
   "codemirror_mode": {
    "name": "ipython",
    "version": 3
   },
   "file_extension": ".py",
   "mimetype": "text/x-python",
   "name": "python",
   "nbconvert_exporter": "python",
   "pygments_lexer": "ipython3",
   "version": "3.7.0"
  }
 },
 "nbformat": 4,
 "nbformat_minor": 2
}
